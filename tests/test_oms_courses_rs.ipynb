{
 "cells": [
  {
   "cell_type": "code",
   "execution_count": 245,
   "metadata": {},
   "outputs": [],
   "source": [
    "from rec_room.recommenders import BaseRS\n",
    "from rec_room.datasets import load_oms_courses_dataset\n",
    "from rec_room import ROOT_DIR"
   ]
  },
  {
   "cell_type": "code",
   "execution_count": 246,
   "metadata": {},
   "outputs": [],
   "source": [
    "from os.path import join\n",
    "from typing import Dict\n",
    "\n",
    "import joblib"
   ]
  },
  {
   "cell_type": "code",
   "execution_count": 3,
   "metadata": {},
   "outputs": [],
   "source": [
    "RS_PATH = join(ROOT_DIR, 'recommenders')"
   ]
  },
  {
   "cell_type": "code",
   "execution_count": 244,
   "metadata": {},
   "outputs": [
    {
     "data": {
      "text/plain": [
       "[{'course_name': 'Artificial Intelligence',\n",
       "  'course_id': 'CS-6601',\n",
       "  'rating': 4.235294117647059,\n",
       "  'workload': 22.852941176470587,\n",
       "  'difficulty': 4.279411764705882},\n",
       " {'course_name': 'Intro to Graduate Algorithms',\n",
       "  'course_id': 'CS-6515',\n",
       "  'rating': 3.8098591549295775,\n",
       "  'workload': 21.070422535211268,\n",
       "  'difficulty': 4.288732394366197},\n",
       " {'course_name': 'Machine Learning',\n",
       "  'course_id': 'CS-7641',\n",
       "  'rating': 3.711864406779661,\n",
       "  'workload': 21.376949152542373,\n",
       "  'difficulty': 4.146892655367232},\n",
       " {'course_name': 'Computer Vision',\n",
       "  'course_id': 'CS-6476',\n",
       "  'rating': 4.46,\n",
       "  'workload': 21.0,\n",
       "  'difficulty': 4.02},\n",
       " {'course_name': 'Reinforcement Learning',\n",
       "  'course_id': 'CS-7642',\n",
       "  'rating': 3.9022556390977443,\n",
       "  'workload': 22.360902255639097,\n",
       "  'difficulty': 4.120300751879699}]"
      ]
     },
     "execution_count": 244,
     "metadata": {},
     "output_type": "execute_result"
    }
   ],
   "source": [
    "class OMSCoursesRS(BaseRS):\n",
    "    \n",
    "    META = dict(\n",
    "        dataset = 'oms_courses.csv',\n",
    "        model = 'oms_courses_model.sav',\n",
    "        labels = 'oms_courses_labels.sav',\n",
    "        path = 'oms_courses_rs'\n",
    "    )\n",
    "    \n",
    "    def __init__(self, rs_args:Dict[str, str]=None, rs_dir:str=None) -> None:        \n",
    "        \"\"\"\n",
    "        Instantiate the OMS Courses Recommender System.\n",
    "\n",
    "        Parameters\n",
    "        ----------\n",
    "        rs_args : Dict\n",
    "            User specified arguments for preferences or constraints\n",
    "            \n",
    "        rs_dir : Str\n",
    "            Directory to where the RS is located.\n",
    "        \"\"\"\n",
    "        if rs_dir is None:\n",
    "            rs_dir = join(RS_PATH, self.META['path'])\n",
    "        \n",
    "        super(OMSCoursesRS, self).__init__(\n",
    "            args=rs_args,\n",
    "            path=rs_dir\n",
    "        )\n",
    "        \n",
    "        self._model = joblib.load(join(self.path, self.META['model']))\n",
    "        self._labels = joblib.load(join(self.path, self.META['labels']))\n",
    "        \n",
    "        self.stats = self.dataset.groupby(['course_id','course_name']).mean().reset_index()\n",
    "        \n",
    "        \n",
    "    @property\n",
    "    def dataset(self) -> 'pd.DataFrame':\n",
    "        return load_oms_courses_dataset()\n",
    "    \n",
    "    @property\n",
    "    def model(self) -> 'sklearn.linear_model.LogisticRegression':\n",
    "        \"\"\"\n",
    "        LogisticRegression(C=1.0, class_weight=None, dual=False, \n",
    "                           fit_intercept=True, intercept_scaling=1, \n",
    "                           l1_ratio=None, max_iter=5000, multi_class='auto', \n",
    "                           n_jobs=None, penalty='l2', random_state=0, \n",
    "                           solver='saga', tol=0.0001, verbose=0, warm_start=False)\n",
    "        \"\"\"\n",
    "        return self._model\n",
    "        \n",
    "    @property\n",
    "    def labels(self) -> 'sklearn.preprocessing.LabelEncoder':\n",
    "        return self._labels\n",
    "    \n",
    "    def recommend(self, args:Dict[str, str]=None) -> Dict[str, str]:\n",
    "        \"\"\"\n",
    "        Make a Recommendation for OMS Courses.\n",
    "\n",
    "        This function calls the pre-trained `self.model` and `self.labels`\n",
    "        to make the best prediction, or recommendation, \n",
    "        for the provided instance arguments.\n",
    "\n",
    "        Parameters\n",
    "        ----------\n",
    "        args : Dict\n",
    "            User specified arguments for preferences or constraints\n",
    "\n",
    "        Returns\n",
    "        -------\n",
    "        Dict\n",
    "            The recommendation results\n",
    "        \"\"\"\n",
    "        if args is None:\n",
    "            args = self.args\n",
    "            \n",
    "        assert args is not None\n",
    "            \n",
    "        metrics = args.get('metrics', None)\n",
    "        choices = args.get('choices', [])\n",
    "        top = args.get('top', len(choices))\n",
    "        \n",
    "        assert metrics is not None\n",
    "        \n",
    "        inst = [metrics['rating'], metrics['workload'], metrics['difficulty']]\n",
    "        \n",
    "        preds = self.model.predict_proba([inst])        \n",
    "        preds = preds.argsort()[0][::-1] # sort pred indices in ascending order        \n",
    "\n",
    "        courses = self.labels.inverse_transform(preds)\n",
    "        \n",
    "        # drop=True?\n",
    "        recs = self.stats.set_index('course_name').loc[courses].reset_index()[:top]\n",
    "        \n",
    "        return recs.to_dict('records')\n",
    "\n",
    "    \n",
    "    def render(self) -> 'HTML':\n",
    "        pass    \n",
    "        \n",
    "    \n",
    "    def _train(self) -> None:\n",
    "        \"\"\"\n",
    "        Train, or re-train, the US College RS.\n",
    "        \"\"\"\n",
    "        df = self.dataset.copy()\n",
    "        y, _ = df.pop('course_name'), df.pop('course_id')\n",
    "        labels = self.labels.fit_transform(y)\n",
    "        self.model.fit(df.values, labels)\n",
    "    \n",
    "    \n",
    "args = dict(\n",
    "    choices = ['CS-6210', 'CS-6515', 'CS-6601', 'CS-7642'],\n",
    "    metrics = {'rating': 5, 'workload': 20, 'difficulty': 5},\n",
    "    top = 5\n",
    ")\n",
    "rs = OMSCoursesRS(args)\n",
    "rs.recommend()"
   ]
  },
  {
   "cell_type": "code",
   "execution_count": 247,
   "metadata": {},
   "outputs": [
    {
     "data": {
      "text/plain": [
       "LogisticRegression(C=1.0, class_weight=None, dual=False, fit_intercept=True,\n",
       "                   intercept_scaling=1, l1_ratio=None, max_iter=5000,\n",
       "                   multi_class='auto', n_jobs=None, penalty='l2',\n",
       "                   random_state=0, solver='saga', tol=0.0001, verbose=0,\n",
       "                   warm_start=False)"
      ]
     },
     "execution_count": 247,
     "metadata": {},
     "output_type": "execute_result"
    }
   ],
   "source": [
    "rs.model"
   ]
  },
  {
   "cell_type": "code",
   "execution_count": 163,
   "metadata": {},
   "outputs": [
    {
     "name": "stdout",
     "output_type": "stream",
     "text": [
      "[['CS-6601', 'Artificial Intelligence', 4.235294117647059, 22.852941176470587, 4.279411764705882]]\n",
      "[['CS-6515', 'Intro to Graduate Algorithms', 3.8098591549295775, 21.070422535211268, 4.288732394366197]]\n",
      "[['CS-7642', 'Reinforcement Learning', 3.9022556390977443, 22.360902255639097, 4.120300751879699]]\n",
      "[['CS-6210', 'Advanced Operating Systems', 4.4423076923076925, 17.326923076923077, 4.211538461538462]]\n"
     ]
    }
   ],
   "source": [
    "for b in a:\n",
    "    print(b)"
   ]
  },
  {
   "cell_type": "code",
   "execution_count": 134,
   "metadata": {},
   "outputs": [
    {
     "data": {
      "text/html": [
       "<div>\n",
       "<style scoped>\n",
       "    .dataframe tbody tr th:only-of-type {\n",
       "        vertical-align: middle;\n",
       "    }\n",
       "\n",
       "    .dataframe tbody tr th {\n",
       "        vertical-align: top;\n",
       "    }\n",
       "\n",
       "    .dataframe thead th {\n",
       "        text-align: right;\n",
       "    }\n",
       "</style>\n",
       "<table border=\"1\" class=\"dataframe\">\n",
       "  <thead>\n",
       "    <tr style=\"text-align: right;\">\n",
       "      <th></th>\n",
       "      <th>course_id</th>\n",
       "      <th>course_name</th>\n",
       "      <th>rating</th>\n",
       "      <th>workload</th>\n",
       "      <th>difficulty</th>\n",
       "    </tr>\n",
       "  </thead>\n",
       "  <tbody>\n",
       "    <tr>\n",
       "      <th>0</th>\n",
       "      <td>CS-6035</td>\n",
       "      <td>Intro to Information Security</td>\n",
       "      <td>3.655039</td>\n",
       "      <td>9.106395</td>\n",
       "      <td>2.410853</td>\n",
       "    </tr>\n",
       "    <tr>\n",
       "      <th>26</th>\n",
       "      <td>CS-7642</td>\n",
       "      <td>Reinforcement Learning</td>\n",
       "      <td>3.902256</td>\n",
       "      <td>22.360902</td>\n",
       "      <td>4.120301</td>\n",
       "    </tr>\n",
       "  </tbody>\n",
       "</table>\n",
       "</div>"
      ],
      "text/plain": [
       "   course_id                    course_name    rating   workload  difficulty\n",
       "0    CS-6035  Intro to Information Security  3.655039   9.106395    2.410853\n",
       "26   CS-7642         Reinforcement Learning  3.902256  22.360902    4.120301"
      ]
     },
     "execution_count": 134,
     "metadata": {},
     "output_type": "execute_result"
    }
   ],
   "source": [
    "a[a.loc[:, 'course_name'].isin(['Intro to Information Security', 'Reinforcement Learning'])]#'Intro to Information Security']"
   ]
  },
  {
   "cell_type": "code",
   "execution_count": 136,
   "metadata": {},
   "outputs": [
    {
     "data": {
      "text/html": [
       "<div>\n",
       "<style scoped>\n",
       "    .dataframe tbody tr th:only-of-type {\n",
       "        vertical-align: middle;\n",
       "    }\n",
       "\n",
       "    .dataframe tbody tr th {\n",
       "        vertical-align: top;\n",
       "    }\n",
       "\n",
       "    .dataframe thead th {\n",
       "        text-align: right;\n",
       "    }\n",
       "</style>\n",
       "<table border=\"1\" class=\"dataframe\">\n",
       "  <thead>\n",
       "    <tr style=\"text-align: right;\">\n",
       "      <th></th>\n",
       "      <th>course_id</th>\n",
       "      <th>course_name</th>\n",
       "      <th>rating</th>\n",
       "      <th>workload</th>\n",
       "      <th>difficulty</th>\n",
       "    </tr>\n",
       "  </thead>\n",
       "  <tbody>\n",
       "    <tr>\n",
       "      <th>2</th>\n",
       "      <td>CS-6210</td>\n",
       "      <td>Advanced Operating Systems</td>\n",
       "      <td>4.442308</td>\n",
       "      <td>17.326923</td>\n",
       "      <td>4.211538</td>\n",
       "    </tr>\n",
       "    <tr>\n",
       "      <th>19</th>\n",
       "      <td>CS-6515</td>\n",
       "      <td>Intro to Graduate Algorithms</td>\n",
       "      <td>3.809859</td>\n",
       "      <td>21.070423</td>\n",
       "      <td>4.288732</td>\n",
       "    </tr>\n",
       "    <tr>\n",
       "      <th>20</th>\n",
       "      <td>CS-6601</td>\n",
       "      <td>Artificial Intelligence</td>\n",
       "      <td>4.235294</td>\n",
       "      <td>22.852941</td>\n",
       "      <td>4.279412</td>\n",
       "    </tr>\n",
       "    <tr>\n",
       "      <th>26</th>\n",
       "      <td>CS-7642</td>\n",
       "      <td>Reinforcement Learning</td>\n",
       "      <td>3.902256</td>\n",
       "      <td>22.360902</td>\n",
       "      <td>4.120301</td>\n",
       "    </tr>\n",
       "  </tbody>\n",
       "</table>\n",
       "</div>"
      ],
      "text/plain": [
       "   course_id                   course_name    rating   workload  difficulty\n",
       "2    CS-6210    Advanced Operating Systems  4.442308  17.326923    4.211538\n",
       "19   CS-6515  Intro to Graduate Algorithms  3.809859  21.070423    4.288732\n",
       "20   CS-6601       Artificial Intelligence  4.235294  22.852941    4.279412\n",
       "26   CS-7642        Reinforcement Learning  3.902256  22.360902    4.120301"
      ]
     },
     "execution_count": 136,
     "metadata": {},
     "output_type": "execute_result"
    }
   ],
   "source": [
    "a[a.loc[:, 'course_id'].isin(args['choices'])]"
   ]
  }
 ],
 "metadata": {
  "kernelspec": {
   "display_name": "Python 3",
   "language": "python",
   "name": "python3"
  },
  "language_info": {
   "codemirror_mode": {
    "name": "ipython",
    "version": 3
   },
   "file_extension": ".py",
   "mimetype": "text/x-python",
   "name": "python",
   "nbconvert_exporter": "python",
   "pygments_lexer": "ipython3",
   "version": "3.7.6"
  }
 },
 "nbformat": 4,
 "nbformat_minor": 4
}
