{
 "cells": [
  {
   "cell_type": "code",
   "execution_count": 1,
   "metadata": {},
   "outputs": [],
   "source": [
    "import pandas as pd\n",
    "import numpy as np\n",
    "\n",
    "import copy\n",
    "#https://www.kaggle.com/mylesoneill/world-university-rankings\n",
    "#https://www.kaggle.com/malapatiravi/graduate-school-admission-data/home"
   ]
  },
  {
   "cell_type": "code",
   "execution_count": 2,
   "metadata": {},
   "outputs": [],
   "source": [
    "from sklearn.neighbors import NearestNeighbors"
   ]
  },
  {
   "cell_type": "code",
   "execution_count": 3,
   "metadata": {},
   "outputs": [],
   "source": [
    "from rec_room.datasets import load_us_colleges_dataset"
   ]
  },
  {
   "cell_type": "code",
   "execution_count": 4,
   "metadata": {},
   "outputs": [
    {
     "data": {
      "text/html": [
       "<div>\n",
       "<style scoped>\n",
       "    .dataframe tbody tr th:only-of-type {\n",
       "        vertical-align: middle;\n",
       "    }\n",
       "\n",
       "    .dataframe tbody tr th {\n",
       "        vertical-align: top;\n",
       "    }\n",
       "\n",
       "    .dataframe thead th {\n",
       "        text-align: right;\n",
       "    }\n",
       "</style>\n",
       "<table border=\"1\" class=\"dataframe\">\n",
       "  <thead>\n",
       "    <tr style=\"text-align: right;\">\n",
       "      <th></th>\n",
       "      <th>gre</th>\n",
       "      <th>gpa</th>\n",
       "      <th>rank</th>\n",
       "      <th>name</th>\n",
       "    </tr>\n",
       "  </thead>\n",
       "  <tbody>\n",
       "    <tr>\n",
       "      <th>0</th>\n",
       "      <td>700</td>\n",
       "      <td>3.65</td>\n",
       "      <td>2</td>\n",
       "      <td>University of Illinois at Urbana-Champaign</td>\n",
       "    </tr>\n",
       "    <tr>\n",
       "      <th>1</th>\n",
       "      <td>700</td>\n",
       "      <td>3.27</td>\n",
       "      <td>2</td>\n",
       "      <td>Washington University in St Louis</td>\n",
       "    </tr>\n",
       "    <tr>\n",
       "      <th>2</th>\n",
       "      <td>640</td>\n",
       "      <td>3.35</td>\n",
       "      <td>3</td>\n",
       "      <td>Creighton University</td>\n",
       "    </tr>\n",
       "    <tr>\n",
       "      <th>3</th>\n",
       "      <td>600</td>\n",
       "      <td>3.47</td>\n",
       "      <td>2</td>\n",
       "      <td>University of Wisconsin</td>\n",
       "    </tr>\n",
       "    <tr>\n",
       "      <th>4</th>\n",
       "      <td>700</td>\n",
       "      <td>4.00</td>\n",
       "      <td>1</td>\n",
       "      <td>Harvard University</td>\n",
       "    </tr>\n",
       "    <tr>\n",
       "      <th>...</th>\n",
       "      <td>...</td>\n",
       "      <td>...</td>\n",
       "      <td>...</td>\n",
       "      <td>...</td>\n",
       "    </tr>\n",
       "    <tr>\n",
       "      <th>156</th>\n",
       "      <td>580</td>\n",
       "      <td>3.50</td>\n",
       "      <td>2</td>\n",
       "      <td>Colorado State University</td>\n",
       "    </tr>\n",
       "    <tr>\n",
       "      <th>157</th>\n",
       "      <td>560</td>\n",
       "      <td>2.71</td>\n",
       "      <td>3</td>\n",
       "      <td>Florida State University</td>\n",
       "    </tr>\n",
       "    <tr>\n",
       "      <th>158</th>\n",
       "      <td>620</td>\n",
       "      <td>3.21</td>\n",
       "      <td>4</td>\n",
       "      <td>Texas Tech University</td>\n",
       "    </tr>\n",
       "    <tr>\n",
       "      <th>159</th>\n",
       "      <td>300</td>\n",
       "      <td>3.01</td>\n",
       "      <td>3</td>\n",
       "      <td>Oregon Health and Science University</td>\n",
       "    </tr>\n",
       "    <tr>\n",
       "      <th>160</th>\n",
       "      <td>680</td>\n",
       "      <td>3.85</td>\n",
       "      <td>3</td>\n",
       "      <td>Rush University</td>\n",
       "    </tr>\n",
       "  </tbody>\n",
       "</table>\n",
       "<p>161 rows × 4 columns</p>\n",
       "</div>"
      ],
      "text/plain": [
       "     gre   gpa  rank                                        name\n",
       "0    700  3.65     2  University of Illinois at Urbana-Champaign\n",
       "1    700  3.27     2           Washington University in St Louis\n",
       "2    640  3.35     3                        Creighton University\n",
       "3    600  3.47     2                     University of Wisconsin\n",
       "4    700  4.00     1                          Harvard University\n",
       "..   ...   ...   ...                                         ...\n",
       "156  580  3.50     2                   Colorado State University\n",
       "157  560  2.71     3                    Florida State University\n",
       "158  620  3.21     4                       Texas Tech University\n",
       "159  300  3.01     3        Oregon Health and Science University\n",
       "160  680  3.85     3                             Rush University\n",
       "\n",
       "[161 rows x 4 columns]"
      ]
     },
     "execution_count": 4,
     "metadata": {},
     "output_type": "execute_result"
    }
   ],
   "source": [
    "df = load_us_colleges_dataset()\n",
    "df"
   ]
  },
  {
   "cell_type": "markdown",
   "metadata": {},
   "source": [
    "#### User Selection\n",
    "1. User selects i colleges\n",
    "\n",
    "    `df = df[df['name'].isin(colleges)]`\n",
    "    \n",
    "    `df[df['name'].isin(['Harvard University', 'Texas Tech University'])]`\n",
    "    \n",
    "    \n",
    "2. User selects j features\n",
    "    \n",
    "    `df = df[feats]`\n",
    "    \n",
    "    `df = df[['gre','gpa']]`\n",
    "    \n",
    "\n",
    "3. User selects k recommendations to return (i.e., top k results)\n",
    "\n",
    "    `df.iloc[rec[0][:k],]`\n",
    "    \n",
    "    `df.iloc[rec[0][:3],]`"
   ]
  },
  {
   "cell_type": "code",
   "execution_count": 5,
   "metadata": {},
   "outputs": [
    {
     "data": {
      "text/html": [
       "<div>\n",
       "<style scoped>\n",
       "    .dataframe tbody tr th:only-of-type {\n",
       "        vertical-align: middle;\n",
       "    }\n",
       "\n",
       "    .dataframe tbody tr th {\n",
       "        vertical-align: top;\n",
       "    }\n",
       "\n",
       "    .dataframe thead th {\n",
       "        text-align: right;\n",
       "    }\n",
       "</style>\n",
       "<table border=\"1\" class=\"dataframe\">\n",
       "  <thead>\n",
       "    <tr style=\"text-align: right;\">\n",
       "      <th></th>\n",
       "      <th>gre</th>\n",
       "      <th>gpa</th>\n",
       "      <th>rank</th>\n",
       "      <th>name</th>\n",
       "    </tr>\n",
       "  </thead>\n",
       "  <tbody>\n",
       "    <tr>\n",
       "      <th>0</th>\n",
       "      <td>700</td>\n",
       "      <td>3.65</td>\n",
       "      <td>2</td>\n",
       "      <td>University of Illinois at Urbana-Champaign</td>\n",
       "    </tr>\n",
       "    <tr>\n",
       "      <th>1</th>\n",
       "      <td>700</td>\n",
       "      <td>3.27</td>\n",
       "      <td>2</td>\n",
       "      <td>Washington University in St Louis</td>\n",
       "    </tr>\n",
       "    <tr>\n",
       "      <th>2</th>\n",
       "      <td>640</td>\n",
       "      <td>3.35</td>\n",
       "      <td>3</td>\n",
       "      <td>Creighton University</td>\n",
       "    </tr>\n",
       "    <tr>\n",
       "      <th>3</th>\n",
       "      <td>600</td>\n",
       "      <td>3.47</td>\n",
       "      <td>2</td>\n",
       "      <td>University of Wisconsin</td>\n",
       "    </tr>\n",
       "    <tr>\n",
       "      <th>4</th>\n",
       "      <td>700</td>\n",
       "      <td>4.00</td>\n",
       "      <td>1</td>\n",
       "      <td>Harvard University</td>\n",
       "    </tr>\n",
       "    <tr>\n",
       "      <th>5</th>\n",
       "      <td>580</td>\n",
       "      <td>3.34</td>\n",
       "      <td>2</td>\n",
       "      <td>Rice University</td>\n",
       "    </tr>\n",
       "    <tr>\n",
       "      <th>6</th>\n",
       "      <td>780</td>\n",
       "      <td>3.87</td>\n",
       "      <td>4</td>\n",
       "      <td>Saint Louis University</td>\n",
       "    </tr>\n",
       "    <tr>\n",
       "      <th>7</th>\n",
       "      <td>520</td>\n",
       "      <td>2.98</td>\n",
       "      <td>2</td>\n",
       "      <td>University of California, Irvine</td>\n",
       "    </tr>\n",
       "    <tr>\n",
       "      <th>8</th>\n",
       "      <td>500</td>\n",
       "      <td>3.31</td>\n",
       "      <td>3</td>\n",
       "      <td>State University of New York Albany</td>\n",
       "    </tr>\n",
       "    <tr>\n",
       "      <th>9</th>\n",
       "      <td>760</td>\n",
       "      <td>3.35</td>\n",
       "      <td>3</td>\n",
       "      <td>University of Missouri</td>\n",
       "    </tr>\n",
       "  </tbody>\n",
       "</table>\n",
       "</div>"
      ],
      "text/plain": [
       "   gre   gpa  rank                                        name\n",
       "0  700  3.65     2  University of Illinois at Urbana-Champaign\n",
       "1  700  3.27     2           Washington University in St Louis\n",
       "2  640  3.35     3                        Creighton University\n",
       "3  600  3.47     2                     University of Wisconsin\n",
       "4  700  4.00     1                          Harvard University\n",
       "5  580  3.34     2                             Rice University\n",
       "6  780  3.87     4                      Saint Louis University\n",
       "7  520  2.98     2            University of California, Irvine\n",
       "8  500  3.31     3         State University of New York Albany\n",
       "9  760  3.35     3                      University of Missouri"
      ]
     },
     "execution_count": 5,
     "metadata": {},
     "output_type": "execute_result"
    }
   ],
   "source": [
    "x = df.head(10)\n",
    "x"
   ]
  },
  {
   "cell_type": "code",
   "execution_count": 6,
   "metadata": {},
   "outputs": [
    {
     "data": {
      "text/plain": [
       "0    University of Illinois at Urbana-Champaign\n",
       "1             Washington University in St Louis\n",
       "2                          Creighton University\n",
       "3                       University of Wisconsin\n",
       "4                            Harvard University\n",
       "5                               Rice University\n",
       "6                        Saint Louis University\n",
       "7              University of California, Irvine\n",
       "8           State University of New York Albany\n",
       "9                        University of Missouri\n",
       "Name: name, dtype: object"
      ]
     },
     "execution_count": 6,
     "metadata": {},
     "output_type": "execute_result"
    }
   ],
   "source": [
    "y = x.pop('name')\n",
    "y"
   ]
  },
  {
   "cell_type": "code",
   "execution_count": 7,
   "metadata": {},
   "outputs": [
    {
     "data": {
      "text/plain": [
       "array([[2, 4, 3, 0, 1, 5, 9, 7, 6, 8]])"
      ]
     },
     "execution_count": 7,
     "metadata": {},
     "output_type": "execute_result"
    }
   ],
   "source": [
    "inst = [650, 3.5, 1]\n",
    "neigh = NearestNeighbors(len(x))\n",
    "neigh.fit(x.values)\n",
    "rec = neigh.kneighbors([inst], return_distance=False) # [inst]\n",
    "rec"
   ]
  },
  {
   "cell_type": "code",
   "execution_count": 8,
   "metadata": {},
   "outputs": [
    {
     "data": {
      "text/plain": [
       "array([2, 4, 3])"
      ]
     },
     "execution_count": 8,
     "metadata": {},
     "output_type": "execute_result"
    }
   ],
   "source": [
    "rec[0][:3]"
   ]
  },
  {
   "cell_type": "code",
   "execution_count": 240,
   "metadata": {},
   "outputs": [
    {
     "data": {
      "text/html": [
       "<div>\n",
       "<style scoped>\n",
       "    .dataframe tbody tr th:only-of-type {\n",
       "        vertical-align: middle;\n",
       "    }\n",
       "\n",
       "    .dataframe tbody tr th {\n",
       "        vertical-align: top;\n",
       "    }\n",
       "\n",
       "    .dataframe thead th {\n",
       "        text-align: right;\n",
       "    }\n",
       "</style>\n",
       "<table border=\"1\" class=\"dataframe\">\n",
       "  <thead>\n",
       "    <tr style=\"text-align: right;\">\n",
       "      <th></th>\n",
       "      <th>gre</th>\n",
       "      <th>gpa</th>\n",
       "      <th>rank</th>\n",
       "      <th>name</th>\n",
       "    </tr>\n",
       "  </thead>\n",
       "  <tbody>\n",
       "    <tr>\n",
       "      <th>2</th>\n",
       "      <td>640</td>\n",
       "      <td>3.35</td>\n",
       "      <td>3</td>\n",
       "      <td>Creighton University</td>\n",
       "    </tr>\n",
       "    <tr>\n",
       "      <th>4</th>\n",
       "      <td>700</td>\n",
       "      <td>4.00</td>\n",
       "      <td>1</td>\n",
       "      <td>Harvard University</td>\n",
       "    </tr>\n",
       "    <tr>\n",
       "      <th>3</th>\n",
       "      <td>600</td>\n",
       "      <td>3.47</td>\n",
       "      <td>2</td>\n",
       "      <td>University of Wisconsin</td>\n",
       "    </tr>\n",
       "    <tr>\n",
       "      <th>0</th>\n",
       "      <td>700</td>\n",
       "      <td>3.65</td>\n",
       "      <td>2</td>\n",
       "      <td>University of Illinois at Urbana-Champaign</td>\n",
       "    </tr>\n",
       "    <tr>\n",
       "      <th>1</th>\n",
       "      <td>700</td>\n",
       "      <td>3.27</td>\n",
       "      <td>2</td>\n",
       "      <td>Washington University in St Louis</td>\n",
       "    </tr>\n",
       "    <tr>\n",
       "      <th>5</th>\n",
       "      <td>580</td>\n",
       "      <td>3.34</td>\n",
       "      <td>2</td>\n",
       "      <td>Rice University</td>\n",
       "    </tr>\n",
       "    <tr>\n",
       "      <th>9</th>\n",
       "      <td>760</td>\n",
       "      <td>3.35</td>\n",
       "      <td>3</td>\n",
       "      <td>University of Missouri</td>\n",
       "    </tr>\n",
       "    <tr>\n",
       "      <th>7</th>\n",
       "      <td>520</td>\n",
       "      <td>2.98</td>\n",
       "      <td>2</td>\n",
       "      <td>University of California, Irvine</td>\n",
       "    </tr>\n",
       "    <tr>\n",
       "      <th>6</th>\n",
       "      <td>780</td>\n",
       "      <td>3.87</td>\n",
       "      <td>4</td>\n",
       "      <td>Saint Louis University</td>\n",
       "    </tr>\n",
       "    <tr>\n",
       "      <th>8</th>\n",
       "      <td>500</td>\n",
       "      <td>3.31</td>\n",
       "      <td>3</td>\n",
       "      <td>State University of New York Albany</td>\n",
       "    </tr>\n",
       "  </tbody>\n",
       "</table>\n",
       "</div>"
      ],
      "text/plain": [
       "   gre   gpa  rank                                        name\n",
       "2  640  3.35     3                        Creighton University\n",
       "4  700  4.00     1                          Harvard University\n",
       "3  600  3.47     2                     University of Wisconsin\n",
       "0  700  3.65     2  University of Illinois at Urbana-Champaign\n",
       "1  700  3.27     2           Washington University in St Louis\n",
       "5  580  3.34     2                             Rice University\n",
       "9  760  3.35     3                      University of Missouri\n",
       "7  520  2.98     2            University of California, Irvine\n",
       "6  780  3.87     4                      Saint Louis University\n",
       "8  500  3.31     3         State University of New York Albany"
      ]
     },
     "execution_count": 240,
     "metadata": {},
     "output_type": "execute_result"
    }
   ],
   "source": [
    "df.iloc[rec[0],]"
   ]
  },
  {
   "cell_type": "code",
   "execution_count": 9,
   "metadata": {},
   "outputs": [],
   "source": [
    "x = df.copy()"
   ]
  },
  {
   "cell_type": "code",
   "execution_count": 11,
   "metadata": {},
   "outputs": [
    {
     "data": {
      "text/plain": [
       "(161, 4)"
      ]
     },
     "execution_count": 11,
     "metadata": {},
     "output_type": "execute_result"
    }
   ],
   "source": [
    "x.shape"
   ]
  },
  {
   "cell_type": "code",
   "execution_count": 12,
   "metadata": {},
   "outputs": [],
   "source": [
    "z = x.pop('name')"
   ]
  },
  {
   "cell_type": "code",
   "execution_count": 14,
   "metadata": {},
   "outputs": [
    {
     "data": {
      "text/plain": [
       "NearestNeighbors(algorithm='auto', leaf_size=30, metric='minkowski',\n",
       "                 metric_params=None, n_jobs=None, n_neighbors=161, p=2,\n",
       "                 radius=1.0)"
      ]
     },
     "execution_count": 14,
     "metadata": {},
     "output_type": "execute_result"
    }
   ],
   "source": [
    "n2 = NearestNeighbors(len(x))\n",
    "n2.fit(x.values)"
   ]
  },
  {
   "cell_type": "code",
   "execution_count": 15,
   "metadata": {},
   "outputs": [
    {
     "data": {
      "text/plain": [
       "array([[123,  33,  18,  81,  35, 101,  54, 148, 135, 125,  12,   2, 102,\n",
       "        132,  60,  80, 104,  89,  83,  46, 142,  63,  30,  11, 145, 144,\n",
       "         72, 140,  37,  98,  17,  96, 105,  97, 160,  22, 121, 158,  88,\n",
       "         85,  43,  13,  69,  73,   4,  19,   3,  95, 113,   0, 127,   1,\n",
       "         28,  93,  82, 155, 151, 156,  65,   5,  10, 118,  67,  53,  15,\n",
       "        137,  51,  36,  32,  38,  91,  24, 112, 154,  25, 126, 128, 110,\n",
       "         90,  86, 157,  50, 149,  71,  84,  77,  92, 103,  74,  31,  68,\n",
       "         57,  14,  99,  27,   9,  21, 134,  52, 106, 152, 146,  59,  26,\n",
       "          7,  70,  41, 107,  48,   6,  87,  66, 124,  20, 131,  47,  75,\n",
       "         62,  29, 130,  61,   8,  78, 136,  23, 119, 147,  40, 129,  58,\n",
       "        114,  34,  44,  42, 111,  45, 139, 116,  64,  16, 133, 141,  94,\n",
       "         79, 100,  49, 138,  56, 109, 120, 150, 117,  76, 108, 115, 122,\n",
       "        153,  39,  55, 143, 159]])"
      ]
     },
     "execution_count": 15,
     "metadata": {},
     "output_type": "execute_result"
    }
   ],
   "source": [
    "rec = n2.kneighbors([inst], return_distance=False) # [inst]\n",
    "rec"
   ]
  },
  {
   "cell_type": "code",
   "execution_count": 16,
   "metadata": {},
   "outputs": [
    {
     "data": {
      "text/plain": [
       "array([123,  33,  18])"
      ]
     },
     "execution_count": 16,
     "metadata": {},
     "output_type": "execute_result"
    }
   ],
   "source": [
    "rec[0][:3]"
   ]
  },
  {
   "cell_type": "code",
   "execution_count": 18,
   "metadata": {},
   "outputs": [
    {
     "data": {
      "text/plain": [
       "161"
      ]
     },
     "execution_count": 18,
     "metadata": {},
     "output_type": "execute_result"
    }
   ],
   "source": [
    "len(rec[0])"
   ]
  },
  {
   "cell_type": "code",
   "execution_count": 30,
   "metadata": {},
   "outputs": [
    {
     "data": {
      "text/html": [
       "<div>\n",
       "<style scoped>\n",
       "    .dataframe tbody tr th:only-of-type {\n",
       "        vertical-align: middle;\n",
       "    }\n",
       "\n",
       "    .dataframe tbody tr th {\n",
       "        vertical-align: top;\n",
       "    }\n",
       "\n",
       "    .dataframe thead th {\n",
       "        text-align: right;\n",
       "    }\n",
       "</style>\n",
       "<table border=\"1\" class=\"dataframe\">\n",
       "  <thead>\n",
       "    <tr style=\"text-align: right;\">\n",
       "      <th></th>\n",
       "      <th>gre</th>\n",
       "      <th>gpa</th>\n",
       "      <th>rank</th>\n",
       "      <th>name</th>\n",
       "    </tr>\n",
       "  </thead>\n",
       "  <tbody>\n",
       "    <tr>\n",
       "      <th>123</th>\n",
       "      <td>640</td>\n",
       "      <td>3.63</td>\n",
       "      <td>1</td>\n",
       "      <td>Georgia Institute of Technology</td>\n",
       "    </tr>\n",
       "    <tr>\n",
       "      <th>33</th>\n",
       "      <td>660</td>\n",
       "      <td>3.32</td>\n",
       "      <td>1</td>\n",
       "      <td>Princeton University</td>\n",
       "    </tr>\n",
       "    <tr>\n",
       "      <th>18</th>\n",
       "      <td>660</td>\n",
       "      <td>4.00</td>\n",
       "      <td>1</td>\n",
       "      <td>Massachusetts Institute of Technology</td>\n",
       "    </tr>\n",
       "    <tr>\n",
       "      <th>81</th>\n",
       "      <td>640</td>\n",
       "      <td>3.50</td>\n",
       "      <td>2</td>\n",
       "      <td>University of California, Riverside</td>\n",
       "    </tr>\n",
       "    <tr>\n",
       "      <th>35</th>\n",
       "      <td>660</td>\n",
       "      <td>3.49</td>\n",
       "      <td>2</td>\n",
       "      <td>University of California, Santa Cruz</td>\n",
       "    </tr>\n",
       "    <tr>\n",
       "      <th>101</th>\n",
       "      <td>660</td>\n",
       "      <td>3.44</td>\n",
       "      <td>2</td>\n",
       "      <td>University of Delaware</td>\n",
       "    </tr>\n",
       "    <tr>\n",
       "      <th>54</th>\n",
       "      <td>660</td>\n",
       "      <td>3.33</td>\n",
       "      <td>2</td>\n",
       "      <td>Stony Brook University</td>\n",
       "    </tr>\n",
       "    <tr>\n",
       "      <th>148</th>\n",
       "      <td>640</td>\n",
       "      <td>3.93</td>\n",
       "      <td>2</td>\n",
       "      <td>University of Medicine and Dentistry of New Je...</td>\n",
       "    </tr>\n",
       "    <tr>\n",
       "      <th>135</th>\n",
       "      <td>660</td>\n",
       "      <td>3.94</td>\n",
       "      <td>2</td>\n",
       "      <td>Brandeis University</td>\n",
       "    </tr>\n",
       "    <tr>\n",
       "      <th>125</th>\n",
       "      <td>660</td>\n",
       "      <td>4.00</td>\n",
       "      <td>2</td>\n",
       "      <td>University of Wisconsin-Madison</td>\n",
       "    </tr>\n",
       "  </tbody>\n",
       "</table>\n",
       "</div>"
      ],
      "text/plain": [
       "     gre   gpa  rank                                               name\n",
       "123  640  3.63     1                    Georgia Institute of Technology\n",
       "33   660  3.32     1                               Princeton University\n",
       "18   660  4.00     1              Massachusetts Institute of Technology\n",
       "81   640  3.50     2                University of California, Riverside\n",
       "35   660  3.49     2               University of California, Santa Cruz\n",
       "101  660  3.44     2                             University of Delaware\n",
       "54   660  3.33     2                             Stony Brook University\n",
       "148  640  3.93     2  University of Medicine and Dentistry of New Je...\n",
       "135  660  3.94     2                                Brandeis University\n",
       "125  660  4.00     2                    University of Wisconsin-Madison"
      ]
     },
     "execution_count": 30,
     "metadata": {},
     "output_type": "execute_result"
    }
   ],
   "source": [
    "df.iloc[rec[0][:10],]"
   ]
  },
  {
   "cell_type": "code",
   "execution_count": 32,
   "metadata": {},
   "outputs": [
    {
     "data": {
      "text/plain": [
       "123                      Georgia Institute of Technology\n",
       "33                                  Princeton University\n",
       "18                 Massachusetts Institute of Technology\n",
       "81                   University of California, Riverside\n",
       "35                  University of California, Santa Cruz\n",
       "101                               University of Delaware\n",
       "54                                Stony Brook University\n",
       "148    University of Medicine and Dentistry of New Je...\n",
       "135                                  Brandeis University\n",
       "125                      University of Wisconsin-Madison\n",
       "Name: name, dtype: object"
      ]
     },
     "execution_count": 32,
     "metadata": {},
     "output_type": "execute_result"
    }
   ],
   "source": [
    "z.iloc[rec[0][:10],]"
   ]
  },
  {
   "cell_type": "code",
   "execution_count": null,
   "metadata": {},
   "outputs": [],
   "source": [
    "inst = [650, 3.5, 1]"
   ]
  },
  {
   "cell_type": "code",
   "execution_count": 20,
   "metadata": {},
   "outputs": [],
   "source": [
    "import joblib\n",
    "from rec_room import ROOT_DIR\n",
    "from os.path import join"
   ]
  },
  {
   "cell_type": "code",
   "execution_count": 24,
   "metadata": {},
   "outputs": [],
   "source": [
    "fp = join(ROOT_DIR, 'recommenders')\n",
    "fn = 'us_colleges_rs.sav'\n",
    "f1 = join(fp, fn)"
   ]
  },
  {
   "cell_type": "code",
   "execution_count": 26,
   "metadata": {},
   "outputs": [
    {
     "data": {
      "text/plain": [
       "'/home/jdpena/Documents/EdTech_CS6460/rec-room/rec_room/recommenders/us_colleges_rs.sav'"
      ]
     },
     "execution_count": 26,
     "metadata": {},
     "output_type": "execute_result"
    }
   ],
   "source": [
    "f1"
   ]
  },
  {
   "cell_type": "code",
   "execution_count": 27,
   "metadata": {},
   "outputs": [
    {
     "data": {
      "text/plain": [
       "'/home/jdpena/Documents/EdTech_CS6460/rec-room/rec_room/recommenders/us_colleges_labels.sav'"
      ]
     },
     "execution_count": 27,
     "metadata": {},
     "output_type": "execute_result"
    }
   ],
   "source": [
    "yn = 'us_colleges_labels.sav'\n",
    "f2 = join(fp, yn)\n",
    "f2"
   ]
  },
  {
   "cell_type": "code",
   "execution_count": 33,
   "metadata": {},
   "outputs": [
    {
     "data": {
      "text/plain": [
       "['/home/jdpena/Documents/EdTech_CS6460/rec-room/rec_room/recommenders/us_colleges_labels.sav']"
      ]
     },
     "execution_count": 33,
     "metadata": {},
     "output_type": "execute_result"
    }
   ],
   "source": [
    "joblib.dump(n2, f1)\n",
    "joblib.dump(z, f2)"
   ]
  },
  {
   "cell_type": "code",
   "execution_count": 34,
   "metadata": {},
   "outputs": [],
   "source": [
    "n4 = joblib.load(f1)\n",
    "y4 = joblib.load(f2)"
   ]
  },
  {
   "cell_type": "code",
   "execution_count": 36,
   "metadata": {},
   "outputs": [
    {
     "data": {
      "text/plain": [
       "0      University of Illinois at Urbana-Champaign\n",
       "1               Washington University in St Louis\n",
       "2                            Creighton University\n",
       "3                         University of Wisconsin\n",
       "4                              Harvard University\n",
       "                          ...                    \n",
       "156                     Colorado State University\n",
       "157                      Florida State University\n",
       "158                         Texas Tech University\n",
       "159          Oregon Health and Science University\n",
       "160                               Rush University\n",
       "Name: name, Length: 161, dtype: object"
      ]
     },
     "execution_count": 36,
     "metadata": {},
     "output_type": "execute_result"
    }
   ],
   "source": [
    "y4"
   ]
  },
  {
   "cell_type": "code",
   "execution_count": 37,
   "metadata": {},
   "outputs": [
    {
     "data": {
      "text/plain": [
       "array([[123,  33,  18,  81,  35, 101,  54, 148, 135, 125,  12,   2, 102,\n",
       "        132,  60,  80, 104,  89,  83,  46, 142,  63,  30,  11, 145, 144,\n",
       "         72, 140,  37,  98,  17,  96, 105,  97, 160,  22, 121, 158,  88,\n",
       "         85,  43,  13,  69,  73,   4,  19,   3,  95, 113,   0, 127,   1,\n",
       "         28,  93,  82, 155, 151, 156,  65,   5,  10, 118,  67,  53,  15,\n",
       "        137,  51,  36,  32,  38,  91,  24, 112, 154,  25, 126, 128, 110,\n",
       "         90,  86, 157,  50, 149,  71,  84,  77,  92, 103,  74,  31,  68,\n",
       "         57,  14,  99,  27,   9,  21, 134,  52, 106, 152, 146,  59,  26,\n",
       "          7,  70,  41, 107,  48,   6,  87,  66, 124,  20, 131,  47,  75,\n",
       "         62,  29, 130,  61,   8,  78, 136,  23, 119, 147,  40, 129,  58,\n",
       "        114,  34,  44,  42, 111,  45, 139, 116,  64,  16, 133, 141,  94,\n",
       "         79, 100,  49, 138,  56, 109, 120, 150, 117,  76, 108, 115, 122,\n",
       "        153,  39,  55, 143, 159]])"
      ]
     },
     "execution_count": 37,
     "metadata": {},
     "output_type": "execute_result"
    }
   ],
   "source": [
    "r2 = n4.kneighbors([inst], return_distance=False) # [inst]\n",
    "r2"
   ]
  },
  {
   "cell_type": "code",
   "execution_count": 38,
   "metadata": {},
   "outputs": [
    {
     "data": {
      "text/plain": [
       "123                      Georgia Institute of Technology\n",
       "33                                  Princeton University\n",
       "18                 Massachusetts Institute of Technology\n",
       "81                   University of California, Riverside\n",
       "35                  University of California, Santa Cruz\n",
       "101                               University of Delaware\n",
       "54                                Stony Brook University\n",
       "148    University of Medicine and Dentistry of New Je...\n",
       "135                                  Brandeis University\n",
       "125                      University of Wisconsin-Madison\n",
       "Name: name, dtype: object"
      ]
     },
     "execution_count": 38,
     "metadata": {},
     "output_type": "execute_result"
    }
   ],
   "source": [
    "y4.iloc[rec[0][:10],]"
   ]
  }
 ],
 "metadata": {
  "kernelspec": {
   "display_name": "Python 3",
   "language": "python",
   "name": "python3"
  },
  "language_info": {
   "codemirror_mode": {
    "name": "ipython",
    "version": 3
   },
   "file_extension": ".py",
   "mimetype": "text/x-python",
   "name": "python",
   "nbconvert_exporter": "python",
   "pygments_lexer": "ipython3",
   "version": "3.7.6"
  }
 },
 "nbformat": 4,
 "nbformat_minor": 4
}
