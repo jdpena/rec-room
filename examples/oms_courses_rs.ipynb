{
 "cells": [
  {
   "cell_type": "code",
   "execution_count": 1,
   "metadata": {},
   "outputs": [],
   "source": [
    "import pandas as pd\n",
    "import numpy as np\n",
    "\n",
    "import copy"
   ]
  },
  {
   "cell_type": "code",
   "execution_count": 2,
   "metadata": {},
   "outputs": [],
   "source": [
    "from sklearn.preprocessing import LabelEncoder\n",
    "from sklearn.linear_model import LogisticRegression"
   ]
  },
  {
   "cell_type": "code",
   "execution_count": 3,
   "metadata": {},
   "outputs": [],
   "source": [
    "from rec_room.datasets import load_oms_courses_dataset"
   ]
  },
  {
   "cell_type": "code",
   "execution_count": 54,
   "metadata": {},
   "outputs": [],
   "source": [
    "data = load_oms_courses_dataset()\n",
    "data.columns"
   ]
  },
  {
   "cell_type": "code",
   "execution_count": 56,
   "metadata": {},
   "outputs": [],
   "source": [
    "data = data.dropna().reset_index(drop=True)\n",
    "data"
   ]
  },
  {
   "cell_type": "code",
   "execution_count": 57,
   "metadata": {},
   "outputs": [
    {
     "data": {
      "text/html": [
       "<div>\n",
       "<style scoped>\n",
       "    .dataframe tbody tr th:only-of-type {\n",
       "        vertical-align: middle;\n",
       "    }\n",
       "\n",
       "    .dataframe tbody tr th {\n",
       "        vertical-align: top;\n",
       "    }\n",
       "\n",
       "    .dataframe thead th {\n",
       "        text-align: right;\n",
       "    }\n",
       "</style>\n",
       "<table border=\"1\" class=\"dataframe\">\n",
       "  <thead>\n",
       "    <tr style=\"text-align: right;\">\n",
       "      <th></th>\n",
       "      <th>course_id</th>\n",
       "      <th>course_name</th>\n",
       "      <th>rating</th>\n",
       "      <th>workload</th>\n",
       "      <th>difficulty</th>\n",
       "    </tr>\n",
       "  </thead>\n",
       "  <tbody>\n",
       "    <tr>\n",
       "      <th>0</th>\n",
       "      <td>CS-6210</td>\n",
       "      <td>Advanced Operating Systems</td>\n",
       "      <td>5.0</td>\n",
       "      <td>20.0</td>\n",
       "      <td>5.0</td>\n",
       "    </tr>\n",
       "    <tr>\n",
       "      <th>1</th>\n",
       "      <td>CS-6210</td>\n",
       "      <td>Advanced Operating Systems</td>\n",
       "      <td>5.0</td>\n",
       "      <td>15.0</td>\n",
       "      <td>4.0</td>\n",
       "    </tr>\n",
       "    <tr>\n",
       "      <th>2</th>\n",
       "      <td>CS-6210</td>\n",
       "      <td>Advanced Operating Systems</td>\n",
       "      <td>4.0</td>\n",
       "      <td>25.0</td>\n",
       "      <td>5.0</td>\n",
       "    </tr>\n",
       "    <tr>\n",
       "      <th>3</th>\n",
       "      <td>CS-6210</td>\n",
       "      <td>Advanced Operating Systems</td>\n",
       "      <td>5.0</td>\n",
       "      <td>25.0</td>\n",
       "      <td>4.0</td>\n",
       "    </tr>\n",
       "    <tr>\n",
       "      <th>4</th>\n",
       "      <td>CS-6210</td>\n",
       "      <td>Advanced Operating Systems</td>\n",
       "      <td>5.0</td>\n",
       "      <td>15.0</td>\n",
       "      <td>4.0</td>\n",
       "    </tr>\n",
       "    <tr>\n",
       "      <th>...</th>\n",
       "      <td>...</td>\n",
       "      <td>...</td>\n",
       "      <td>...</td>\n",
       "      <td>...</td>\n",
       "      <td>...</td>\n",
       "    </tr>\n",
       "    <tr>\n",
       "      <th>3740</th>\n",
       "      <td>ISYE-6402</td>\n",
       "      <td>Time Series Analysis</td>\n",
       "      <td>1.0</td>\n",
       "      <td>10.0</td>\n",
       "      <td>4.0</td>\n",
       "    </tr>\n",
       "    <tr>\n",
       "      <th>3741</th>\n",
       "      <td>ISYE-6402</td>\n",
       "      <td>Time Series Analysis</td>\n",
       "      <td>1.0</td>\n",
       "      <td>18.0</td>\n",
       "      <td>5.0</td>\n",
       "    </tr>\n",
       "    <tr>\n",
       "      <th>3742</th>\n",
       "      <td>ISYE-6402</td>\n",
       "      <td>Time Series Analysis</td>\n",
       "      <td>1.0</td>\n",
       "      <td>15.0</td>\n",
       "      <td>5.0</td>\n",
       "    </tr>\n",
       "    <tr>\n",
       "      <th>3743</th>\n",
       "      <td>ISYE-6402</td>\n",
       "      <td>Time Series Analysis</td>\n",
       "      <td>4.0</td>\n",
       "      <td>11.0</td>\n",
       "      <td>5.0</td>\n",
       "    </tr>\n",
       "    <tr>\n",
       "      <th>3744</th>\n",
       "      <td>ISYE-6402</td>\n",
       "      <td>Time Series Analysis</td>\n",
       "      <td>1.0</td>\n",
       "      <td>40.0</td>\n",
       "      <td>5.0</td>\n",
       "    </tr>\n",
       "  </tbody>\n",
       "</table>\n",
       "<p>3745 rows × 5 columns</p>\n",
       "</div>"
      ],
      "text/plain": [
       "      course_id                 course_name  rating  workload  difficulty\n",
       "0       CS-6210  Advanced Operating Systems     5.0      20.0         5.0\n",
       "1       CS-6210  Advanced Operating Systems     5.0      15.0         4.0\n",
       "2       CS-6210  Advanced Operating Systems     4.0      25.0         5.0\n",
       "3       CS-6210  Advanced Operating Systems     5.0      25.0         4.0\n",
       "4       CS-6210  Advanced Operating Systems     5.0      15.0         4.0\n",
       "...         ...                         ...     ...       ...         ...\n",
       "3740  ISYE-6402        Time Series Analysis     1.0      10.0         4.0\n",
       "3741  ISYE-6402        Time Series Analysis     1.0      18.0         5.0\n",
       "3742  ISYE-6402        Time Series Analysis     1.0      15.0         5.0\n",
       "3743  ISYE-6402        Time Series Analysis     4.0      11.0         5.0\n",
       "3744  ISYE-6402        Time Series Analysis     1.0      40.0         5.0\n",
       "\n",
       "[3745 rows x 5 columns]"
      ]
     },
     "execution_count": 57,
     "metadata": {},
     "output_type": "execute_result"
    }
   ],
   "source": []
  },
  {
   "cell_type": "code",
   "execution_count": 58,
   "metadata": {},
   "outputs": [],
   "source": [
    "names = data.pop('course_name')\n",
    "ids = data.pop('course_id')"
   ]
  },
  {
   "cell_type": "code",
   "execution_count": 59,
   "metadata": {},
   "outputs": [
    {
     "data": {
      "text/plain": [
       "array([ 0,  0,  0, ..., 50, 50, 50])"
      ]
     },
     "execution_count": 59,
     "metadata": {},
     "output_type": "execute_result"
    }
   ],
   "source": [
    "le = LabelEncoder()\n",
    "enc_labels = le.fit_transform(names)\n",
    "enc_labels"
   ]
  },
  {
   "cell_type": "code",
   "execution_count": 61,
   "metadata": {},
   "outputs": [
    {
     "data": {
      "text/plain": [
       "(array([], dtype=int64), array([], dtype=int64))"
      ]
     },
     "execution_count": 61,
     "metadata": {},
     "output_type": "execute_result"
    }
   ],
   "source": [
    "np.where(data.isna() == True)"
   ]
  },
  {
   "cell_type": "code",
   "execution_count": 63,
   "metadata": {},
   "outputs": [
    {
     "data": {
      "text/plain": [
       "LogisticRegression(C=1.0, class_weight=None, dual=False, fit_intercept=True,\n",
       "                   intercept_scaling=1, l1_ratio=None, max_iter=5000,\n",
       "                   multi_class='auto', n_jobs=None, penalty='l2',\n",
       "                   random_state=0, solver='saga', tol=0.0001, verbose=0,\n",
       "                   warm_start=False)"
      ]
     },
     "execution_count": 63,
     "metadata": {},
     "output_type": "execute_result"
    }
   ],
   "source": [
    "clf = LogisticRegression(random_state=0, solver='saga', max_iter=5000)"
   ]
  },
  {
   "cell_type": "code",
   "execution_count": null,
   "metadata": {},
   "outputs": [],
   "source": [
    "clf.fit(data.values, enc_labels)"
   ]
  },
  {
   "cell_type": "code",
   "execution_count": 68,
   "metadata": {},
   "outputs": [
    {
     "name": "stdout",
     "output_type": "stream",
     "text": [
      "[1]\n",
      "51\n"
     ]
    }
   ],
   "source": [
    "inst = [5,20,5]\n",
    "print(clf.predict([inst]))\n",
    "pred = clf.predict_proba([inst])\n",
    "print(len(pred[0]))"
   ]
  },
  {
   "cell_type": "code",
   "execution_count": 73,
   "metadata": {},
   "outputs": [
    {
     "name": "stdout",
     "output_type": "stream",
     "text": [
      "[[7.64585627e-02 1.53443451e-01 2.41050233e-02 4.57106077e-04\n",
      "  1.69443330e-02 7.57770787e-05 7.77724468e-03 3.57009447e-04\n",
      "  4.80585874e-05 8.73522866e-03 3.22707365e-03 9.03022118e-02\n",
      "  6.71829525e-03 2.10303664e-03 8.66231357e-03 9.37850832e-07\n",
      "  4.67998946e-07 1.78275280e-03 1.32487317e-03 4.68145945e-07\n",
      "  3.25331209e-03 1.64445464e-03 5.29949821e-03 1.60271299e-06\n",
      "  2.35756080e-02 1.10303855e-02 3.35091206e-03 3.26514928e-05\n",
      "  4.21643761e-04 2.94468906e-05 1.17673476e-08 4.52773190e-03\n",
      "  4.26482762e-04 1.39932314e-01 6.50319603e-05 7.51120978e-02\n",
      "  2.09387243e-03 8.50015569e-02 9.22871017e-03 1.15533562e-01\n",
      "  4.87021228e-03 3.40088975e-03 1.10730507e-03 8.51170401e-02\n",
      "  6.15143218e-03 3.22956066e-04 3.24991684e-03 9.71817338e-03\n",
      "  1.23057323e-03 1.09421497e-03 6.52172663e-04]]\n",
      "[1.534e-01 1.399e-01 1.155e-01 9.030e-02 8.510e-02 8.500e-02 7.650e-02\n",
      " 7.510e-02 2.410e-02 2.360e-02 1.690e-02 1.100e-02 9.700e-03 9.200e-03\n",
      " 8.700e-03 8.700e-03 7.800e-03 6.700e-03 6.200e-03 5.300e-03 4.900e-03\n",
      " 4.500e-03 3.400e-03 3.400e-03 3.300e-03 3.200e-03 3.200e-03 2.100e-03\n",
      " 2.100e-03 1.800e-03 1.600e-03 1.300e-03 1.200e-03 1.100e-03 1.100e-03\n",
      " 7.000e-04 5.000e-04 4.000e-04 4.000e-04 4.000e-04 3.000e-04 1.000e-04\n",
      " 1.000e-04 0.000e+00 0.000e+00 0.000e+00 0.000e+00 0.000e+00 0.000e+00\n",
      " 0.000e+00 0.000e+00]\n",
      "['Artificial Intelligence' 'Intro to Graduate Algorithms'\n",
      " 'Machine Learning' 'Computer Vision' 'Reinforcement Learning'\n",
      " 'Intro to Operating Systems' 'Advanced Operating Systems'\n",
      " 'Intro to High-Performance Computing'\n",
      " 'Artificial Intelligence for Robotics'\n",
      " 'High Performance Computer Architecture'\n",
      " 'Big Data for Health Informatics' 'High-Dimensional Data Analytics'\n",
      " 'Software Analysis & Test'\n",
      " 'Knowledge-Based Artificial Intelligence - Cognitive Systems'\n",
      " 'Computational Photography' 'Data & Visual Analytics'\n",
      " 'Compilers - Theory & Practice' 'Computing for Data Analytics'\n",
      " 'Robotics: AI Techniques' 'Embedded System Optimization'\n",
      " 'Machine Learning for Trading' 'Intro to Analytics Modeling'\n",
      " 'Network Security' 'Human-Computer Interaction' 'Educational Technology'\n",
      " 'Simulation' 'Computer Networks' 'Cyber Physical Design & Analytics'\n",
      " 'Intro to Information Security' 'Database Systems Concepts & Design'\n",
      " 'Embedded Software' 'Deterministic Optimization'\n",
      " 'Software Architecture & Design' 'Regression Analysis'\n",
      " 'Software Development Process' 'Time Series Analysis'\n",
      " 'Bayesian Statistics' 'Intro to Cyber Physical Systems Security'\n",
      " 'Information Security Lab' 'Computational Data Analysis'\n",
      " 'Secure Computer Systems' 'Business Fundamentals for Analytics'\n",
      " 'Intro to Health Informatics' 'Computational Journalism'\n",
      " 'Information Policy & Management' 'Information Security Policies'\n",
      " 'Financial Modeling' 'Data Analytics & Business' 'Digital Marketing'\n",
      " 'Data Analytics & Continuous Improvement' 'Internet & Public Policy']\n",
      "['Artificial Intelligence' 'Intro to Graduate Algorithms'\n",
      " 'Machine Learning']\n"
     ]
    }
   ],
   "source": [
    "print(pred)\n",
    "c = pred.argsort()[0][::-1]\n",
    "print(np.around(pred[0][c], 4))\n",
    "recs = le.inverse_transform(c)\n",
    "print(recs)\n",
    "print(recs[:3])"
   ]
  },
  {
   "cell_type": "code",
   "execution_count": 74,
   "metadata": {},
   "outputs": [],
   "source": [
    "import joblib"
   ]
  },
  {
   "cell_type": "code",
   "execution_count": 75,
   "metadata": {},
   "outputs": [],
   "source": [
    "clf_name = 'oms_course_rs.sav'"
   ]
  },
  {
   "cell_type": "code",
   "execution_count": 77,
   "metadata": {},
   "outputs": [],
   "source": [
    "from rec_room import ROOT_DIR"
   ]
  },
  {
   "cell_type": "code",
   "execution_count": 79,
   "metadata": {},
   "outputs": [],
   "source": [
    "from os.path import join"
   ]
  },
  {
   "cell_type": "code",
   "execution_count": 83,
   "metadata": {},
   "outputs": [],
   "source": [
    "clf_path = join(ROOT_DIR, 'recommenders')"
   ]
  },
  {
   "cell_type": "code",
   "execution_count": 85,
   "metadata": {},
   "outputs": [],
   "source": [
    "f = join(clf_path, clf_name)"
   ]
  },
  {
   "cell_type": "code",
   "execution_count": 86,
   "metadata": {},
   "outputs": [
    {
     "data": {
      "text/plain": [
       "['/home/jdpena/Documents/EdTech_CS6460/rec-room/rec_room/recommenders/oms_course_rs.sav']"
      ]
     },
     "execution_count": 86,
     "metadata": {},
     "output_type": "execute_result"
    }
   ],
   "source": [
    "joblib.dump(clf, f)"
   ]
  },
  {
   "cell_type": "code",
   "execution_count": 87,
   "metadata": {},
   "outputs": [],
   "source": [
    "r = joblib.load(f)"
   ]
  },
  {
   "cell_type": "code",
   "execution_count": 88,
   "metadata": {},
   "outputs": [
    {
     "data": {
      "text/plain": [
       "LogisticRegression(C=1.0, class_weight=None, dual=False, fit_intercept=True,\n",
       "                   intercept_scaling=1, l1_ratio=None, max_iter=5000,\n",
       "                   multi_class='auto', n_jobs=None, penalty='l2',\n",
       "                   random_state=0, solver='saga', tol=0.0001, verbose=0,\n",
       "                   warm_start=False)"
      ]
     },
     "execution_count": 88,
     "metadata": {},
     "output_type": "execute_result"
    }
   ],
   "source": [
    "r"
   ]
  },
  {
   "cell_type": "code",
   "execution_count": 92,
   "metadata": {},
   "outputs": [],
   "source": [
    "a = r.predict_proba([inst])\n"
   ]
  },
  {
   "cell_type": "code",
   "execution_count": 90,
   "metadata": {},
   "outputs": [
    {
     "data": {
      "text/plain": [
       "array([ 0,  0,  0, ..., 50, 50, 50])"
      ]
     },
     "execution_count": 90,
     "metadata": {},
     "output_type": "execute_result"
    }
   ],
   "source": [
    "le2 = LabelEncoder()\n",
    "l2 = le2.fit_transform(names)\n",
    "l2"
   ]
  },
  {
   "cell_type": "code",
   "execution_count": 93,
   "metadata": {},
   "outputs": [
    {
     "name": "stdout",
     "output_type": "stream",
     "text": [
      "[1.534e-01 1.399e-01 1.155e-01 9.030e-02 8.510e-02 8.500e-02 7.650e-02\n",
      " 7.510e-02 2.410e-02 2.360e-02 1.690e-02 1.100e-02 9.700e-03 9.200e-03\n",
      " 8.700e-03 8.700e-03 7.800e-03 6.700e-03 6.200e-03 5.300e-03 4.900e-03\n",
      " 4.500e-03 3.400e-03 3.400e-03 3.300e-03 3.200e-03 3.200e-03 2.100e-03\n",
      " 2.100e-03 1.800e-03 1.600e-03 1.300e-03 1.200e-03 1.100e-03 1.100e-03\n",
      " 7.000e-04 5.000e-04 4.000e-04 4.000e-04 4.000e-04 3.000e-04 1.000e-04\n",
      " 1.000e-04 0.000e+00 0.000e+00 0.000e+00 0.000e+00 0.000e+00 0.000e+00\n",
      " 0.000e+00 0.000e+00]\n",
      "['Artificial Intelligence' 'Intro to Graduate Algorithms'\n",
      " 'Machine Learning' 'Computer Vision' 'Reinforcement Learning'\n",
      " 'Intro to Operating Systems' 'Advanced Operating Systems'\n",
      " 'Intro to High-Performance Computing'\n",
      " 'Artificial Intelligence for Robotics'\n",
      " 'High Performance Computer Architecture'\n",
      " 'Big Data for Health Informatics' 'High-Dimensional Data Analytics'\n",
      " 'Software Analysis & Test'\n",
      " 'Knowledge-Based Artificial Intelligence - Cognitive Systems'\n",
      " 'Computational Photography' 'Data & Visual Analytics'\n",
      " 'Compilers - Theory & Practice' 'Computing for Data Analytics'\n",
      " 'Robotics: AI Techniques' 'Embedded System Optimization'\n",
      " 'Machine Learning for Trading' 'Intro to Analytics Modeling'\n",
      " 'Network Security' 'Human-Computer Interaction' 'Educational Technology'\n",
      " 'Simulation' 'Computer Networks' 'Cyber Physical Design & Analytics'\n",
      " 'Intro to Information Security' 'Database Systems Concepts & Design'\n",
      " 'Embedded Software' 'Deterministic Optimization'\n",
      " 'Software Architecture & Design' 'Regression Analysis'\n",
      " 'Software Development Process' 'Time Series Analysis'\n",
      " 'Bayesian Statistics' 'Intro to Cyber Physical Systems Security'\n",
      " 'Information Security Lab' 'Computational Data Analysis'\n",
      " 'Secure Computer Systems' 'Business Fundamentals for Analytics'\n",
      " 'Intro to Health Informatics' 'Computational Journalism'\n",
      " 'Information Policy & Management' 'Information Security Policies'\n",
      " 'Financial Modeling' 'Data Analytics & Business' 'Digital Marketing'\n",
      " 'Data Analytics & Continuous Improvement' 'Internet & Public Policy']\n",
      "['Artificial Intelligence' 'Intro to Graduate Algorithms'\n",
      " 'Machine Learning']\n"
     ]
    }
   ],
   "source": [
    "c = a.argsort()[0][::-1]\n",
    "print(np.around(a[0][c], 4))\n",
    "recs2 = le2.inverse_transform(c)\n",
    "print(recs2)\n",
    "print(recs2[:3])"
   ]
  },
  {
   "cell_type": "code",
   "execution_count": 95,
   "metadata": {},
   "outputs": [
    {
     "data": {
      "text/plain": [
       "'/home/jdpena/Documents/EdTech_CS6460/rec-room/rec_room/recommenders'"
      ]
     },
     "execution_count": 95,
     "metadata": {},
     "output_type": "execute_result"
    }
   ],
   "source": [
    "clf_path"
   ]
  },
  {
   "cell_type": "code",
   "execution_count": 96,
   "metadata": {},
   "outputs": [],
   "source": [
    "l_name = 'oms_courses_labels.sav'"
   ]
  },
  {
   "cell_type": "code",
   "execution_count": 97,
   "metadata": {},
   "outputs": [
    {
     "data": {
      "text/plain": [
       "'/home/jdpena/Documents/EdTech_CS6460/rec-room/rec_room/recommenders/oms_courses_labels.sav'"
      ]
     },
     "execution_count": 97,
     "metadata": {},
     "output_type": "execute_result"
    }
   ],
   "source": [
    "f2 = join(clf_path, l_name)\n",
    "f2"
   ]
  },
  {
   "cell_type": "code",
   "execution_count": 100,
   "metadata": {},
   "outputs": [
    {
     "data": {
      "text/plain": [
       "['/home/jdpena/Documents/EdTech_CS6460/rec-room/rec_room/recommenders/oms_courses_labels.sav']"
      ]
     },
     "execution_count": 100,
     "metadata": {},
     "output_type": "execute_result"
    }
   ],
   "source": [
    "joblib.dump(le2, f2)"
   ]
  },
  {
   "cell_type": "code",
   "execution_count": 101,
   "metadata": {},
   "outputs": [],
   "source": [
    "le3 = joblib.load(f2)"
   ]
  },
  {
   "cell_type": "code",
   "execution_count": 103,
   "metadata": {},
   "outputs": [
    {
     "data": {
      "text/plain": [
       "array(['Artificial Intelligence', 'Intro to Graduate Algorithms',\n",
       "       'Machine Learning', 'Computer Vision', 'Reinforcement Learning',\n",
       "       'Intro to Operating Systems', 'Advanced Operating Systems',\n",
       "       'Intro to High-Performance Computing',\n",
       "       'Artificial Intelligence for Robotics',\n",
       "       'High Performance Computer Architecture',\n",
       "       'Big Data for Health Informatics',\n",
       "       'High-Dimensional Data Analytics', 'Software Analysis & Test',\n",
       "       'Knowledge-Based Artificial Intelligence - Cognitive Systems',\n",
       "       'Computational Photography', 'Data & Visual Analytics',\n",
       "       'Compilers - Theory & Practice', 'Computing for Data Analytics',\n",
       "       'Robotics: AI Techniques', 'Embedded System Optimization',\n",
       "       'Machine Learning for Trading', 'Intro to Analytics Modeling',\n",
       "       'Network Security', 'Human-Computer Interaction',\n",
       "       'Educational Technology', 'Simulation', 'Computer Networks',\n",
       "       'Cyber Physical Design & Analytics',\n",
       "       'Intro to Information Security',\n",
       "       'Database Systems Concepts & Design', 'Embedded Software',\n",
       "       'Deterministic Optimization', 'Software Architecture & Design',\n",
       "       'Regression Analysis', 'Software Development Process',\n",
       "       'Time Series Analysis', 'Bayesian Statistics',\n",
       "       'Intro to Cyber Physical Systems Security',\n",
       "       'Information Security Lab', 'Computational Data Analysis',\n",
       "       'Secure Computer Systems', 'Business Fundamentals for Analytics',\n",
       "       'Intro to Health Informatics', 'Computational Journalism',\n",
       "       'Information Policy & Management', 'Information Security Policies',\n",
       "       'Financial Modeling', 'Data Analytics & Business',\n",
       "       'Digital Marketing', 'Data Analytics & Continuous Improvement',\n",
       "       'Internet & Public Policy'], dtype=object)"
      ]
     },
     "execution_count": 103,
     "metadata": {},
     "output_type": "execute_result"
    }
   ],
   "source": [
    "le3.inverse_transform(c)"
   ]
  },
  {
   "cell_type": "code",
   "execution_count": 72,
   "metadata": {},
   "outputs": [
    {
     "data": {
      "text/html": [
       "<div>\n",
       "<style scoped>\n",
       "    .dataframe tbody tr th:only-of-type {\n",
       "        vertical-align: middle;\n",
       "    }\n",
       "\n",
       "    .dataframe tbody tr th {\n",
       "        vertical-align: top;\n",
       "    }\n",
       "\n",
       "    .dataframe thead th {\n",
       "        text-align: right;\n",
       "    }\n",
       "</style>\n",
       "<table border=\"1\" class=\"dataframe\">\n",
       "  <thead>\n",
       "    <tr style=\"text-align: right;\">\n",
       "      <th></th>\n",
       "      <th>rating</th>\n",
       "      <th>workload</th>\n",
       "      <th>difficulty</th>\n",
       "    </tr>\n",
       "  </thead>\n",
       "  <tbody>\n",
       "    <tr>\n",
       "      <th>0</th>\n",
       "      <td>5.0</td>\n",
       "      <td>20.0</td>\n",
       "      <td>5.0</td>\n",
       "    </tr>\n",
       "    <tr>\n",
       "      <th>1</th>\n",
       "      <td>5.0</td>\n",
       "      <td>15.0</td>\n",
       "      <td>4.0</td>\n",
       "    </tr>\n",
       "    <tr>\n",
       "      <th>2</th>\n",
       "      <td>4.0</td>\n",
       "      <td>25.0</td>\n",
       "      <td>5.0</td>\n",
       "    </tr>\n",
       "    <tr>\n",
       "      <th>3</th>\n",
       "      <td>5.0</td>\n",
       "      <td>25.0</td>\n",
       "      <td>4.0</td>\n",
       "    </tr>\n",
       "    <tr>\n",
       "      <th>4</th>\n",
       "      <td>5.0</td>\n",
       "      <td>15.0</td>\n",
       "      <td>4.0</td>\n",
       "    </tr>\n",
       "    <tr>\n",
       "      <th>...</th>\n",
       "      <td>...</td>\n",
       "      <td>...</td>\n",
       "      <td>...</td>\n",
       "    </tr>\n",
       "    <tr>\n",
       "      <th>3740</th>\n",
       "      <td>1.0</td>\n",
       "      <td>10.0</td>\n",
       "      <td>4.0</td>\n",
       "    </tr>\n",
       "    <tr>\n",
       "      <th>3741</th>\n",
       "      <td>1.0</td>\n",
       "      <td>18.0</td>\n",
       "      <td>5.0</td>\n",
       "    </tr>\n",
       "    <tr>\n",
       "      <th>3742</th>\n",
       "      <td>1.0</td>\n",
       "      <td>15.0</td>\n",
       "      <td>5.0</td>\n",
       "    </tr>\n",
       "    <tr>\n",
       "      <th>3743</th>\n",
       "      <td>4.0</td>\n",
       "      <td>11.0</td>\n",
       "      <td>5.0</td>\n",
       "    </tr>\n",
       "    <tr>\n",
       "      <th>3744</th>\n",
       "      <td>1.0</td>\n",
       "      <td>40.0</td>\n",
       "      <td>5.0</td>\n",
       "    </tr>\n",
       "  </tbody>\n",
       "</table>\n",
       "<p>3745 rows × 3 columns</p>\n",
       "</div>"
      ],
      "text/plain": [
       "      rating  workload  difficulty\n",
       "0        5.0      20.0         5.0\n",
       "1        5.0      15.0         4.0\n",
       "2        4.0      25.0         5.0\n",
       "3        5.0      25.0         4.0\n",
       "4        5.0      15.0         4.0\n",
       "...      ...       ...         ...\n",
       "3740     1.0      10.0         4.0\n",
       "3741     1.0      18.0         5.0\n",
       "3742     1.0      15.0         5.0\n",
       "3743     4.0      11.0         5.0\n",
       "3744     1.0      40.0         5.0\n",
       "\n",
       "[3745 rows x 3 columns]"
      ]
     },
     "execution_count": 72,
     "metadata": {},
     "output_type": "execute_result"
    }
   ],
   "source": [
    "data"
   ]
  },
  {
   "cell_type": "markdown",
   "metadata": {},
   "source": [
    "OLD BELOW"
   ]
  },
  {
   "cell_type": "code",
   "execution_count": null,
   "metadata": {},
   "outputs": [],
   "source": [
    "len(data['reviews'])"
   ]
  },
  {
   "cell_type": "code",
   "execution_count": null,
   "metadata": {},
   "outputs": [],
   "source": [
    "from collections import defaultdict"
   ]
  },
  {
   "cell_type": "code",
   "execution_count": null,
   "metadata": {},
   "outputs": [],
   "source": [
    "d = defaultdict(list)\n",
    "for rev in data['reviews']:\n",
    "    course = rev['course']\n",
    "    diff = rev['difficulty']\n",
    "    work = rev['workload']\n",
    "    rate = rev['rating']\n",
    "    d[course].append([diff, rate, work])\n",
    "    #np.array([\n",
    "    #])\n",
    "    #break"
   ]
  },
  {
   "cell_type": "code",
   "execution_count": null,
   "metadata": {
    "scrolled": false
   },
   "outputs": [],
   "source": [
    "print(len(d))\n",
    "_d = copy.copy(d)\n",
    "for k in _d:\n",
    "    n = len(d[k])\n",
    "    print(k, n)\n",
    "    if n < 10:\n",
    "        print('\\t\\t ******* ', k, n)\n",
    "        d.pop(k)\n",
    "    if k == 'CS-8803-GA':\n",
    "        d['CS-6515'] = d[k]\n",
    "        #d.pop(k)\n",
    "        \n",
    "        \n",
    "_d = None"
   ]
  },
  {
   "cell_type": "code",
   "execution_count": null,
   "metadata": {},
   "outputs": [],
   "source": [
    "_data = copy.copy(data)\n",
    "for key,vals in _data.items():\n",
    "    if len(vals['reviews']) < 5:\n",
    "        data.pop(key)"
   ]
  },
  {
   "cell_type": "markdown",
   "metadata": {},
   "source": [
    "### the code below uses data = omscs_courses.json"
   ]
  },
  {
   "cell_type": "code",
   "execution_count": null,
   "metadata": {},
   "outputs": [],
   "source": [
    "features = ('course','reviews','difficulty', 'rating', 'workload')\n",
    "dims = len(data.keys()), len(features)\n",
    "\n",
    "df = pd.DataFrame(np.zeros(dims), columns=features)"
   ]
  },
  {
   "cell_type": "code",
   "execution_count": null,
   "metadata": {},
   "outputs": [],
   "source": [
    "for idx, (key, vals) in enumerate(data.items()):\n",
    "    avgs = np.around(np.array([*vals['average'].values()]), decimals=4)    \n",
    "    df.iloc[idx] = np.concatenate((np.array([key, len(vals['reviews'])]), avgs))"
   ]
  },
  {
   "cell_type": "code",
   "execution_count": null,
   "metadata": {},
   "outputs": [],
   "source": [
    "df # SAVE CSV"
   ]
  },
  {
   "cell_type": "code",
   "execution_count": null,
   "metadata": {},
   "outputs": [],
   "source": [
    "courses = df.pop('course')"
   ]
  },
  {
   "cell_type": "code",
   "execution_count": null,
   "metadata": {},
   "outputs": [],
   "source": [
    "le = LabelEncoder()\n",
    "enc_labels = le.fit_transform(courses)\n",
    "enc_labels"
   ]
  },
  {
   "cell_type": "code",
   "execution_count": null,
   "metadata": {},
   "outputs": [],
   "source": [
    "enc_labels"
   ]
  },
  {
   "cell_type": "code",
   "execution_count": null,
   "metadata": {},
   "outputs": [],
   "source": [
    "clf = LogisticRegression(random_state=0).fit(df.values, enc_labels)\n",
    "\n",
    "print(clf.predict([inst]))\n",
    "pred = clf.predict_proba([inst])\n"
   ]
  },
  {
   "cell_type": "code",
   "execution_count": null,
   "metadata": {},
   "outputs": [],
   "source": [
    "print(pred)\n",
    "c = pred.argsort()[0][::-1]\n",
    "print(np.around(pred[0][c], 4))\n",
    "recs = le.inverse_transform(c)\n",
    "recs[:3]"
   ]
  },
  {
   "cell_type": "code",
   "execution_count": null,
   "metadata": {},
   "outputs": [],
   "source": [
    "_df = df.copy()\n",
    "## validate\n",
    "_df['course'] = courses\n",
    "print(inst)\n",
    "_df.loc[_df['course'].isin(recs[:3])]"
   ]
  }
 ],
 "metadata": {
  "kernelspec": {
   "display_name": "Python 3",
   "language": "python",
   "name": "python3"
  },
  "language_info": {
   "codemirror_mode": {
    "name": "ipython",
    "version": 3
   },
   "file_extension": ".py",
   "mimetype": "text/x-python",
   "name": "python",
   "nbconvert_exporter": "python",
   "pygments_lexer": "ipython3",
   "version": "3.7.6"
  }
 },
 "nbformat": 4,
 "nbformat_minor": 1
}
